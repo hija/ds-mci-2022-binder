{
 "cells": [
  {
   "cell_type": "code",
   "execution_count": 1,
   "id": "3eb60433-1498-48f2-85fe-3d68dbf07390",
   "metadata": {},
   "outputs": [],
   "source": [
    "import pandas as pd\n",
    "import seaborn as sns\n",
    "import numpy as np\n",
    "\n",
    "from sklearn.linear_model import LinearRegression\n",
    "from sklearn.model_selection import train_test_split\n",
    "\n",
    "from sklearn.preprocessing import StandardScaler"
   ]
  },
  {
   "cell_type": "code",
   "execution_count": 2,
   "id": "07bf9ace-20a2-4d00-b807-90091dd7fc77",
   "metadata": {},
   "outputs": [
    {
     "data": {
      "text/html": [
       "<div>\n",
       "<style scoped>\n",
       "    .dataframe tbody tr th:only-of-type {\n",
       "        vertical-align: middle;\n",
       "    }\n",
       "\n",
       "    .dataframe tbody tr th {\n",
       "        vertical-align: top;\n",
       "    }\n",
       "\n",
       "    .dataframe thead th {\n",
       "        text-align: right;\n",
       "    }\n",
       "</style>\n",
       "<table border=\"1\" class=\"dataframe\">\n",
       "  <thead>\n",
       "    <tr style=\"text-align: right;\">\n",
       "      <th></th>\n",
       "      <th>hours_spent</th>\n",
       "      <th>points_exam</th>\n",
       "    </tr>\n",
       "  </thead>\n",
       "  <tbody>\n",
       "    <tr>\n",
       "      <th>0</th>\n",
       "      <td>20</td>\n",
       "      <td>15</td>\n",
       "    </tr>\n",
       "    <tr>\n",
       "      <th>1</th>\n",
       "      <td>10</td>\n",
       "      <td>12</td>\n",
       "    </tr>\n",
       "    <tr>\n",
       "      <th>2</th>\n",
       "      <td>9</td>\n",
       "      <td>8</td>\n",
       "    </tr>\n",
       "    <tr>\n",
       "      <th>3</th>\n",
       "      <td>6</td>\n",
       "      <td>5</td>\n",
       "    </tr>\n",
       "    <tr>\n",
       "      <th>4</th>\n",
       "      <td>0</td>\n",
       "      <td>0</td>\n",
       "    </tr>\n",
       "  </tbody>\n",
       "</table>\n",
       "</div>"
      ],
      "text/plain": [
       "   hours_spent  points_exam\n",
       "0           20           15\n",
       "1           10           12\n",
       "2            9            8\n",
       "3            6            5\n",
       "4            0            0"
      ]
     },
     "execution_count": 2,
     "metadata": {},
     "output_type": "execute_result"
    }
   ],
   "source": [
    "df = pd.DataFrame(\n",
    " \n",
    "    {\n",
    "        'hours_spent': [20,10,9,6,0,3,17,12,10],\n",
    "        'points_exam': [15,12,8,5,0,4,13,14,11]\n",
    "    }\n",
    ")\n",
    "\n",
    "df.head()"
   ]
  },
  {
   "cell_type": "code",
   "execution_count": 3,
   "id": "17d743b0-8d5c-4ef8-9cb8-d31c49dddc63",
   "metadata": {},
   "outputs": [],
   "source": [
    "features = df.drop(['points_exam'], axis=1)\n",
    "target = df['points_exam']\n",
    "\n",
    "X_train, X_test, y_train, y_test = train_test_split(features, target, train_size=0.8)"
   ]
  },
  {
   "cell_type": "code",
   "execution_count": 4,
   "id": "fde2108b-4dd6-4b84-bee4-f425b7afbbe1",
   "metadata": {},
   "outputs": [],
   "source": [
    "stdscaler = StandardScaler()\n",
    "X_train_std = stdscaler.fit_transform(X_train)\n",
    "X_test_std = stdscaler.transform(X_test)"
   ]
  },
  {
   "cell_type": "code",
   "execution_count": 5,
   "id": "0136fe20-6887-4158-a8fa-e5c29f6c469f",
   "metadata": {},
   "outputs": [
    {
     "data": {
      "text/plain": [
       "LinearRegression()"
      ]
     },
     "execution_count": 5,
     "metadata": {},
     "output_type": "execute_result"
    }
   ],
   "source": [
    "lr = LinearRegression()\n",
    "lr.fit(X_train_std, y_train)"
   ]
  },
  {
   "cell_type": "code",
   "execution_count": 7,
   "id": "183c2cc1-e771-4b5a-8661-92728f2d9437",
   "metadata": {},
   "outputs": [
    {
     "name": "stdout",
     "output_type": "stream",
     "text": [
      "MSE: 2.344812433250267\n",
      "MAE: 1.5235849056603774\n",
      "R2-Score: 0.7394652851944148\n"
     ]
    }
   ],
   "source": [
    "from sklearn.metrics import mean_absolute_error, mean_squared_error, r2_score\n",
    "\n",
    "prediction_on_test = lr.predict(X_test_std)\n",
    "print('MSE:', mean_squared_error(y_test, prediction_on_test))\n",
    "print('MAE:', mean_absolute_error(y_test, prediction_on_test))\n",
    "print('R2-Score:', r2_score(y_test, prediction_on_test))"
   ]
  },
  {
   "cell_type": "code",
   "execution_count": 8,
   "id": "53bc89da-7ba1-450b-a372-967e4e1f287f",
   "metadata": {},
   "outputs": [
    {
     "data": {
      "text/plain": [
       "[<matplotlib.lines.Line2D at 0x7f9beeffc410>]"
      ]
     },
     "execution_count": 8,
     "metadata": {},
     "output_type": "execute_result"
    },
    {
     "data": {
      "image/png": "[encoded data removed]",
      "text/plain": [
       "<Figure size 432x288 with 1 Axes>"
      ]
     },
     "metadata": {
      "needs_background": "light"
     },
     "output_type": "display_data"
    }
   ],
   "source": [
    "import matplotlib.pyplot as plt\n",
    "import numpy as np\n",
    "\n",
    "plt.plot(stdscaler.transform(features), target, 'o')\n",
    "\n",
    "m, b = np.polyfit(X_train_std.flatten(), y_train, 1)\n",
    "\n",
    "plt.plot(stdscaler.transform(features), m*stdscaler.transform(features) + b)"
   ]
  },
  {
   "cell_type": "code",
   "execution_count": null,
   "id": "d9277791-480d-4752-8ec5-9b00084de36a",
   "metadata": {},
   "outputs": [],
   "source": []
  }
 ],
 "metadata": {
  "kernelspec": {
   "display_name": "Python 3 (ipykernel)",
   "language": "python",
   "name": "python3"
  },
  "language_info": {
   "codemirror_mode": {
    "name": "ipython",
    "version": 3
   },
   "file_extension": ".py",
   "mimetype": "text/x-python",
   "name": "python",
   "nbconvert_exporter": "python",
   "pygments_lexer": "ipython3",
   "version": "3.7.10"
  }
 },
 "nbformat": 4,
 "nbformat_minor": 5
}
