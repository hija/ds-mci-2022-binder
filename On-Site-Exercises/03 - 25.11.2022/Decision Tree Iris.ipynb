{
 "cells": [
  {
   "cell_type": "code",
   "execution_count": 6,
   "id": "25941305-f79c-4f5c-be8e-5cec9a3f0dec",
   "metadata": {},
   "outputs": [],
   "source": [
    "from sklearn.datasets import load_iris\n",
    "import matplotlib.pyplot as plt"
   ]
  },
  {
   "cell_type": "code",
   "execution_count": 7,
   "id": "d199d34b-86cf-4270-88ac-227c3207e829",
   "metadata": {},
   "outputs": [],
   "source": [
    "dataset = load_iris(as_frame=True)\n",
    "features = dataset['data']\n",
    "target = dataset['target']\n",
    "feature_names = dataset['feature_names']\n",
    "target_names = dataset['target_names']"
   ]
  }
 ],
 "metadata": {
  "kernelspec": {
   "display_name": "Python 3.11.0 ('mci2022')",
   "language": "python",
   "name": "python3"
  },
  "language_info": {
   "codemirror_mode": {
    "name": "ipython",
    "version": 3
   },
   "file_extension": ".py",
   "mimetype": "text/x-python",
   "name": "python",
   "nbconvert_exporter": "python",
   "pygments_lexer": "ipython3",
   "version": "3.11.0"
  },
  "vscode": {
   "interpreter": {
    "hash": "5e0ea4c47b689c434bcaaad500900fa29f39183047629cf35120d485c9950291"
   }
  }
 },
 "nbformat": 4,
 "nbformat_minor": 5
}
