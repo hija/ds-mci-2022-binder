{
 "cells": [
  {
   "cell_type": "code",
   "execution_count": null,
   "metadata": {},
   "outputs": [],
   "source": [
    "import seaborn as sns\n",
    "import matplotlib.pyplot as plt\n",
    "\n",
    "from sklearn.datasets import make_blobs\n",
    "import pandas as pd"
   ]
  },
  {
   "cell_type": "code",
   "execution_count": null,
   "metadata": {},
   "outputs": [],
   "source": [
    "centers = [[4, 0.3], [4, 0.6]]\n",
    "X, y = make_blobs(centers=centers)"
   ]
  },
  {
   "cell_type": "code",
   "execution_count": null,
   "metadata": {},
   "outputs": [],
   "source": [
    "df = pd.DataFrame(X, columns=['Days on Vacation', 'Sunny Days during Vacation'])\n",
    "df['Survived?'] = y\n",
    "\n",
    "df[df['Days on Vacation']<0] = 0\n",
    "df[df['Sunny Days during Vacation']<0] = 0"
   ]
  },
  {
   "cell_type": "code",
   "execution_count": null,
   "metadata": {},
   "outputs": [],
   "source": [
    "# Your task: Make a scatterplot, with 'Days on Vacation' on the x axis and 'Sunny Days during Vacation' on the y axis.\n",
    "# Set the hue parameter to 'Suvived?' so the dots get different colors, depending on whether the plant survived or not."
   ]
  },
  {
   "cell_type": "code",
   "execution_count": null,
   "metadata": {},
   "outputs": [],
   "source": [
    "# Your task: Train a decisiontree on the dataset\n",
    "# The feature dataset should contain all features except for 'Survived?', the target should be the 'Survived?' column of the dataframe"
   ]
  },
  {
   "cell_type": "code",
   "execution_count": null,
   "metadata": {},
   "outputs": [],
   "source": [
    "point_to_predict = [[4, 3.0]]\n",
    "\n",
    "ax = sns.scatterplot(data=df, x='Days on Vacation', y='Sunny Days during Vacation', hue='Survived?')\n",
    "plt.scatter(point_to_predict[0][0], point_to_predict[0][1], color='r')\n",
    "\n",
    "print('We predict the class:', clf.predict(point_to_predict))"
   ]
  },
  {
   "cell_type": "code",
   "execution_count": null,
   "metadata": {},
   "outputs": [],
   "source": [
    "from sklearn.inspection import DecisionBoundaryDisplay\n",
    "disp = DecisionBoundaryDisplay.from_estimator(\n",
    "     clf, df.drop(['Survived?'], axis='columns'), response_method=\"predict\",\n",
    "     xlabel='Days on Vacation', ylabel='Sunny Days during Vacation',\n",
    "     alpha=0.3,\n",
    ")\n",
    "disp.ax_.scatter(df['Days on Vacation'], df['Sunny Days during Vacation'], c=df['Survived?'], edgecolor=\"k\")"
   ]
  },
  {
   "cell_type": "code",
   "execution_count": null,
   "metadata": {},
   "outputs": [],
   "source": [
    "# Your task: Look up how to plot a decision tree. Then plot the previously trained decision tree!"
   ]
  },
  {
   "cell_type": "code",
   "execution_count": null,
   "metadata": {},
   "outputs": [],
   "source": [
    "# Your task: Now train the classifier on a train set only. Look how the classifier's performance is now!"
   ]
  }
 ],
 "metadata": {
  "kernelspec": {
   "display_name": "Python 3.11.0 ('mci2022')",
   "language": "python",
   "name": "python3"
  },
  "language_info": {
   "codemirror_mode": {
    "name": "ipython",
    "version": 3
   },
   "file_extension": ".py",
   "mimetype": "text/x-python",
   "name": "python",
   "nbconvert_exporter": "python",
   "pygments_lexer": "ipython3",
   "version": "3.11.0"
  },
  "orig_nbformat": 4,
  "vscode": {
   "interpreter": {
    "hash": "5e0ea4c47b689c434bcaaad500900fa29f39183047629cf35120d485c9950291"
   }
  }
 },
 "nbformat": 4,
 "nbformat_minor": 2
}
