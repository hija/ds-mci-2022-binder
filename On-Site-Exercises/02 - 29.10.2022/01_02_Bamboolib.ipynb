{
 "cells": [
  {
   "cell_type": "markdown",
   "metadata": {},
   "source": [
    "# Bamboolib\n",
    "\n",
    "💡 Bamboolib is a library for Python which helps exploring and changing data:\n",
    "\n",
    "> Since bamboolib is developed by data scientists, it was designed to make common data wrangling and exploration tasks fast, easy and fun.\n",
    "\n",
    "➡ **No-code** data analysis and transformations\n",
    "\n",
    "https://techcrunch.com/2021/10/06/databricks-acquires-8080-labs-to-extend-its-low-code-no-code-capabilities/"
   ]
  },
  {
   "cell_type": "code",
   "execution_count": null,
   "metadata": {},
   "outputs": [],
   "source": [
    "import bamboolib as bam\n",
    "import pandas as pd"
   ]
  }
 ],
 "metadata": {
  "kernelspec": {
   "display_name": "Python 3.10.5 ('ctf')",
   "language": "python",
   "name": "python3"
  },
  "language_info": {
   "name": "python",
   "version": "3.10.5"
  },
  "orig_nbformat": 4,
  "vscode": {
   "interpreter": {
    "hash": "6ac32a8b2ccfbbcbf95120b27d1e34cd277bc27556fac7ad38fcab9eea050c89"
   }
  }
 },
 "nbformat": 4,
 "nbformat_minor": 2
}
